{
 "cells": [
  {
   "cell_type": "markdown",
   "metadata": {},
   "source": [
    "# Linear Regression: Engineering & Regularizaion\n",
    "#### King Count Housing Data\n",
    "* June 14, 2019\n",
    "* Flatiron School, NYC (mhtn-ds-042219)\n",
    "\n",
    "## Project Description\n",
    "## Import libraries and set up environment"
   ]
  },
  {
   "cell_type": "code",
   "execution_count": 23,
   "metadata": {},
   "outputs": [],
   "source": [
    "import pandas as pd\n",
    "import numpy as np \n",
    "\n",
    "from sklearn.model_selection import train_test_split\n",
    "from sklearn import linear_model\n",
    "from sklearn import metrics\n",
    "\n",
    "import seaborn as sns\n",
    "import matplotlib\n",
    "import matplotlib.pyplot as plt\n",
    "%matplotlib inline\n",
    "\n",
    "pd.set_option('display.max_columns', 300)"
   ]
  },
  {
   "cell_type": "code",
   "execution_count": 136,
   "metadata": {},
   "outputs": [],
   "source": [
    "class LinearModeler():\n",
    "    %matplotlib inline\n",
    "    \n",
    "    def __init__(self, data_file=''):\n",
    "        self.df = None\n",
    "        self.target = None\n",
    "        self.features = None\n",
    "        self.data_file = data_file\n",
    "        self.X_train = None\n",
    "        self.X_test = None\n",
    "        self.y_train = None\n",
    "        self.y_test = None\n",
    "        self.train_lm = None\n",
    "        self.y_train_pred = None\n",
    "        self.train_mae = None\n",
    "        self.train_mse = None\n",
    "        self.train_rmse = None\n",
    "        self.y_pred = None\n",
    "        self.test_mae = None\n",
    "        self.test_rmse = None\n",
    "        self.target_std = None\n",
    "        \n",
    "    def read_csv(self, data_file=''):\n",
    "        if data_file != '':\n",
    "            self.data_file = data_file\n",
    "        try:\n",
    "            self.df = pd.read_csv(self.data_file,index_col='id')\n",
    "            return self.df.shape\n",
    "            \n",
    "        except Exception as e:\n",
    "            print(e)\n",
    "            \n",
    "    def explore_data(self):\n",
    "        self.df.shape\n",
    "\n",
    "        #correlation matrix\n",
    "        corrmat = self.df.corr()\n",
    "        f, ax = plt.subplots(figsize=(12, 9))\n",
    "        sns.heatmap(corrmat, vmax=.8, square=True)\n",
    "        \n",
    "    def plot_pairs(self, cols):\n",
    "        sns.pairplot(self.df, vars=cols)\n",
    "        \n",
    "    def missing_data(self):\n",
    "        #missing data\n",
    "        total = self.df.isnull().sum().sort_values(ascending=False)\n",
    "        percent = (self.df.isnull().sum()/self.df.isnull().count()).sort_values(ascending=False)\n",
    "        missing_data = pd.concat([total, percent], axis=1, keys=['Total', 'Percent'])\n",
    "        return missing_data.head(20)\n",
    "        \n",
    "    def set_target_and_features(self, target, features):\n",
    "        self.target = self.df[target]\n",
    "        self.features = self.df[features]\n",
    "        \n",
    "    def evaluate_train_set(self):\n",
    "        try:\n",
    "            self.X_train, self.X_test, self.y_train, self.y_test = train_test_split(self.features, self.target, random_state=34,test_size=0.2)\n",
    "        except Exception as e:\n",
    "            print(e)\n",
    "            \n",
    "        print(\"Training set - Features: \", self.X_train.shape, \"Target: \", self.y_train.shape)\n",
    "        print(\"Test set - Features: \", self.X_test.shape, \"Target: \",self.y_test.shape)\n",
    "        \n",
    "        #instantiate a linear regression object\n",
    "        self.train_lm = linear_model.LinearRegression()\n",
    "\n",
    "        #fit the linear regression to the data\n",
    "        self.train_lm = self.train_lm.fit(self.X_train, self.y_train)\n",
    "\n",
    "\n",
    "        print('\\nTRAINING STATS')\n",
    "        print('Training Intercept: {}'.format(self.train_lm.intercept_))\n",
    "        print('Training Coefficients:\\n{}'.format(self.train_lm.coef_))\n",
    "        print (\"Training R^2 Score:\", self.train_lm.score(self.X_train, self.y_train))\n",
    "        \n",
    "        self.y_train_pred = self.train_lm.predict(self.X_train)\n",
    "        self.train_mae = metrics.mean_absolute_error(self.y_train, self.y_train_pred)\n",
    "        self.train_mse = metrics.mean_squared_error(self.y_train, self.y_train_pred)\n",
    "        self.train_rmse = np.sqrt(metrics.mean_squared_error(self.y_train, self.y_train_pred))\n",
    "\n",
    "\n",
    "        print('TRAINING ERRORS')\n",
    "        print('Mean Absolute Error:', self.train_mae )\n",
    "        print('Mean Squared Error:',  self.train_mse)\n",
    "        print('Root Mean Squared Error:' , self.train_rmse)\n",
    "        \n",
    "        self.target_std = self.target.std()\n",
    "\n",
    "        print('Mean Absolute Error:', self.train_mae/self.target_std)\n",
    "        print('Root Mean Squared Error:' , self.train_rmse/self.target_std)\n",
    "            \n",
    "\n",
    "    def predict_test(self):\n",
    "        self.y_pred = self.train_lm.predict(self.X_test)\n",
    "        plt.scatter(self.y_test, self.y_pred)\n",
    "        plt.xlabel(\"True Values\")\n",
    "        plt.ylabel(\"Predictions\")\n",
    "        sns.residplot(self.y_pred, self.y_test, lowess=True, color=\"g\")\n",
    "        \n",
    "        print (\"Test R^2 Score:\", self.train_lm.score(self.X_test, self.y_test))\n",
    "        \n",
    "        self.test_mae = metrics.mean_absolute_error(self.y_test, self.y_pred)\n",
    "        self.test_rmse = np.sqrt(metrics.mean_squared_error(self.y_test, self.y_pred))\n",
    "\n",
    "\n",
    "        print('Mean Absolute Error:' + str(metrics.mean_absolute_error(self.y_test, self.y_pred)))\n",
    "        print('Mean Squared Error:' + str(metrics.mean_squared_error(self.y_test, self.y_pred)))\n",
    "        print('Root Mean Squared Error:' + str(np.sqrt(metrics.mean_squared_error(self.y_test, self.y_pred))))\n",
    "        \n",
    "        print('Mean Absolute Error  Z:', self.test_mae/self.target_std )\n",
    "        print('Root Mean Squared Error Z:' , self.test_rmse/self.target_std)\n",
    "        \n",
    "        print('Training: ', self.train_rmse, \"vs. Testing: \", self.test_rmse)\n",
    "        \n",
    "        \n",
    "            "
   ]
  },
  {
   "cell_type": "markdown",
   "metadata": {},
   "source": [
    "## Load Data"
   ]
  },
  {
   "cell_type": "code",
   "execution_count": 137,
   "metadata": {},
   "outputs": [
    {
     "data": {
      "text/plain": [
       "(21600, 24)"
      ]
     },
     "execution_count": 137,
     "metadata": {},
     "output_type": "execute_result"
    }
   ],
   "source": [
    "data_file = 'kc_housing_data_for_feat_engineering_lab.csv'\n",
    "\n",
    "KC = LinearModeler()\n",
    "KC.read_csv(data_file)"
   ]
  },
  {
   "cell_type": "markdown",
   "metadata": {},
   "source": [
    "## Explore Data"
   ]
  },
  {
   "cell_type": "code",
   "execution_count": 138,
   "metadata": {},
   "outputs": [],
   "source": [
    "# KC.missing_data()"
   ]
  },
  {
   "cell_type": "code",
   "execution_count": 139,
   "metadata": {},
   "outputs": [],
   "source": [
    "# KC.explore_data()"
   ]
  },
  {
   "cell_type": "code",
   "execution_count": 140,
   "metadata": {},
   "outputs": [],
   "source": [
    "# cols  = ['price_log', 'bedrooms', 'bathrooms', 'sqft_living', 'sqft_lot',\n",
    "#          'grade', 'sqft_above','sqft_basement', 'yr_renovated', \n",
    "#        'sqft_living15', 'sqft_lot15', 'yr_old', 'since_sold']\n",
    "\n",
    "# KC.plot_pairs(cols)"
   ]
  },
  {
   "cell_type": "code",
   "execution_count": 141,
   "metadata": {},
   "outputs": [],
   "source": [
    "KC.df['date'] = pd.to_datetime(KC.df['date'])\n",
    "KC.df['sqft_living_log'] = np.log(KC.df['sqft_living'])\n",
    "KC.df['sqft_above_log'] = np.log(KC.df['sqft_above'])\n",
    "KC.df['sqft_living15_log'] = np.log(KC.df['sqft_living15'])\n",
    "KC.df['price_log'] = np.log(KC.df['price'])"
   ]
  },
  {
   "cell_type": "markdown",
   "metadata": {},
   "source": [
    "## Build Training Model"
   ]
  },
  {
   "cell_type": "code",
   "execution_count": 142,
   "metadata": {},
   "outputs": [],
   "source": [
    "feature_columns = ['bedrooms', 'bathrooms', 'sqft_lot','floors', 'waterfront', \n",
    " 'view', 'condition', 'grade','sqft_basement', 'yr_renovated', 'zipcode', 'lat', 'long',\n",
    " 'sqft_lot15', 'yr_old', 'since_sold','sqft_living_log', \n",
    " 'sqft_above_log', 'sqft_living15_log']\n",
    "\n",
    "KC.set_target_and_features('price_log', feature_columns)"
   ]
  },
  {
   "cell_type": "markdown",
   "metadata": {},
   "source": [
    "### Evaluate the Training Set"
   ]
  },
  {
   "cell_type": "code",
   "execution_count": 143,
   "metadata": {},
   "outputs": [
    {
     "name": "stdout",
     "output_type": "stream",
     "text": [
      "Training set - Features:  (17280, 19) Target:  (17280,)\n",
      "Test set - Features:  (4320, 19) Target:  (4320,)\n",
      "\n",
      "TRAINING STATS\n",
      "Training Intercept: -20.883709647742247\n",
      "Training Coefficients:\n",
      "[-2.95284939e-02  6.76271235e-02  4.67685043e-07  7.24944057e-02\n",
      "  3.84209274e-01  6.45409435e-02  5.90078331e-02  1.62568426e-01\n",
      "  5.09082275e-05  3.15747892e-05 -6.02951584e-04  1.40476399e+00\n",
      " -1.69048344e-01 -2.58305927e-07  3.62495801e-03 -5.02750991e-02\n",
      "  2.40406675e-01  8.19639569e-02  1.99763370e-01]\n",
      "Training R^2 Score: 0.7745409109460175\n",
      "TRAINING ERRORS\n",
      "Mean Absolute Error: 0.19379284429498597\n",
      "Mean Squared Error: 0.062340349238912386\n",
      "Root Mean Squared Error: 0.24968049431005296\n",
      "Mean Absolute Error: 0.37005746529101885\n",
      "Root Mean Squared Error: 0.47677782527586043\n"
     ]
    }
   ],
   "source": [
    "KC.evaluate_train_set()"
   ]
  },
  {
   "cell_type": "markdown",
   "metadata": {},
   "source": [
    "### Predict Baseline Model against the Test Set"
   ]
  },
  {
   "cell_type": "code",
   "execution_count": 144,
   "metadata": {},
   "outputs": [
    {
     "name": "stdout",
     "output_type": "stream",
     "text": [
      "Test R^2 Score: 0.7634767313422355\n",
      "Mean Absolute Error:0.19404984610085096\n",
      "Mean Squared Error:0.06269274468615459\n",
      "Root Mean Squared Error:0.25038519262559156\n",
      "Mean Absolute Error  Z: 0.3705482235395992\n",
      "Root Mean Squared Error Z: 0.47812348317871944\n",
      "Training:  0.24968049431005296 vs. Testing:  0.25038519262559156\n"
     ]
    },
    {
     "data": {
      "image/png": "[encoded data removed]",
      "text/plain": [
       "<Figure size 432x288 with 1 Axes>"
      ]
     },
     "metadata": {
      "needs_background": "light"
     },
     "output_type": "display_data"
    }
   ],
   "source": [
    "KC.predict_test()"
   ]
  },
  {
   "cell_type": "code",
   "execution_count": null,
   "metadata": {},
   "outputs": [],
   "source": []
  },
  {
   "cell_type": "markdown",
   "metadata": {},
   "source": [
    "### Build a Polynomial Version"
   ]
  },
  {
   "cell_type": "code",
   "execution_count": null,
   "metadata": {},
   "outputs": [],
   "source": []
  }
 ],
 "metadata": {
  "kernelspec": {
   "display_name": "Python 3",
   "language": "python",
   "name": "python3"
  },
  "language_info": {
   "codemirror_mode": {
    "name": "ipython",
    "version": 3
   },
   "file_extension": ".py",
   "mimetype": "text/x-python",
   "name": "python",
   "nbconvert_exporter": "python",
   "pygments_lexer": "ipython3",
   "version": "3.7.1"
  }
 },
 "nbformat": 4,
 "nbformat_minor": 2
}
